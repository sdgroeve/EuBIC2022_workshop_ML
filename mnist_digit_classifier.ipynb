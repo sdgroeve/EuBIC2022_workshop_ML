{
  "cells": [
    {
      "cell_type": "markdown",
      "metadata": {
        "id": "view-in-github",
        "colab_type": "text"
      },
      "source": [
        "<a href=\"https://colab.research.google.com/github/sdgroeve/EuBIC2022_workshop_ML/blob/main/mnist_digit_classifier.ipynb\" target=\"_parent\"><img src=\"https://colab.research.google.com/assets/colab-badge.svg\" alt=\"Open In Colab\"/></a>"
      ]
    },
    {
      "cell_type": "markdown",
      "metadata": {
        "_cell_guid": "b1076dfc-b9ad-4769-8c92-a6c4dae69d19",
        "_uuid": "8f2839f25d086af736a60e9eeb907d3b93b6e0e5",
        "id": "Sa5eMgOn4-HQ"
      },
      "source": [
        "# MNIST digit classification\n"
      ]
    },
    {
      "cell_type": "code",
      "execution_count": null,
      "metadata": {
        "execution": {
          "iopub.execute_input": "2022-03-12T14:30:43.722873Z",
          "iopub.status.busy": "2022-03-12T14:30:43.722554Z",
          "iopub.status.idle": "2022-03-12T14:30:50.310264Z",
          "shell.execute_reply": "2022-03-12T14:30:50.309472Z",
          "shell.execute_reply.started": "2022-03-12T14:30:43.722793Z"
        },
        "id": "a9rONGwM4-HW"
      },
      "outputs": [],
      "source": [
        "# Importing modules\n",
        "import pandas as pd\n",
        "import numpy as np\n",
        "#import tensorflow as tf\n",
        "import matplotlib.pyplot as plt\n",
        "import seaborn as sns\n",
        "from sklearn.metrics import confusion_matrix\n",
        "import warnings\n",
        "warnings.filterwarnings('ignore')"
      ]
    },
    {
      "cell_type": "markdown",
      "metadata": {
        "id": "dKiHVSGU4-Ha"
      },
      "source": [
        "### Load the MNIST dataset with Scikit-learn"
      ]
    },
    {
      "cell_type": "code",
      "execution_count": null,
      "metadata": {
        "execution": {
          "iopub.execute_input": "2022-03-12T14:30:50.312052Z",
          "iopub.status.busy": "2022-03-12T14:30:50.311786Z",
          "iopub.status.idle": "2022-03-12T14:30:56.235944Z",
          "shell.execute_reply": "2022-03-12T14:30:56.235116Z",
          "shell.execute_reply.started": "2022-03-12T14:30:50.312009Z"
        },
        "id": "27_X0MW94-Hc"
      },
      "outputs": [],
      "source": [
        "# Importing data\n",
        "from sklearn.datasets import fetch_openml\n",
        "mnist = fetch_openml('mnist_784', cache=False)"
      ]
    },
    {
      "cell_type": "markdown",
      "metadata": {
        "id": "hax9ulSDfazv"
      },
      "source": [
        "### The features: pixel values"
      ]
    },
    {
      "cell_type": "code",
      "execution_count": null,
      "metadata": {
        "id": "E63cz3hZ07pU"
      },
      "outputs": [],
      "source": [
        "mnist.data"
      ]
    },
    {
      "cell_type": "code",
      "execution_count": null,
      "metadata": {
        "id": "jx5T_BmPXN1Z"
      },
      "outputs": [],
      "source": [
        "img = np.array(mnist.data.iloc[0])\n",
        "img = np.resize(img, (28, 28))\n",
        "\n",
        "plt.figure(figsize=(20, 20))\n",
        "sns.heatmap(img, annot=True, fmt='.1f', square=True, cmap=\"YlGnBu\")\n",
        "plt.show()"
      ]
    },
    {
      "cell_type": "code",
      "execution_count": null,
      "metadata": {
        "execution": {
          "iopub.execute_input": "2022-03-12T14:30:56.277314Z",
          "iopub.status.busy": "2022-03-12T14:30:56.276820Z",
          "iopub.status.idle": "2022-03-12T14:30:57.631486Z",
          "shell.execute_reply": "2022-03-12T14:30:57.630672Z",
          "shell.execute_reply.started": "2022-03-12T14:30:56.277268Z"
        },
        "id": "KtzCCSpb4-Hf"
      },
      "outputs": [],
      "source": [
        "# Viewing the images\n",
        "index_to_view = 0\n",
        "number_of_images = 6\n",
        "\n",
        "def view_image(ds, index_to_view, cmap=\"gray\"):\n",
        "    image = np.array(ds.iloc[index_to_view])\n",
        "    image = np.resize(image, (28, 28))\n",
        "    plt.imshow(image, cmap)\n",
        "    \n",
        "\n",
        "plt.figure(figsize=(10, 10))\n",
        "for i in range(number_of_images):\n",
        "    plt.subplot(round(number_of_images/2), round(number_of_images/2), i+1)\n",
        "    view_image(mnist.data, i)\n",
        "\n",
        "plt.tight_layout()"
      ]
    },
    {
      "cell_type": "markdown",
      "metadata": {
        "id": "9G_PBO4MfglC"
      },
      "source": [
        "### Feature normalization"
      ]
    },
    {
      "cell_type": "code",
      "execution_count": null,
      "metadata": {
        "id": "-vPuv3o3ez0U"
      },
      "outputs": [],
      "source": [
        "img = np.array(mnist.data.iloc[0]) / 255\n",
        "img = np.resize(img, (28, 28))\n",
        "\n",
        "plt.figure(figsize=(20, 20))\n",
        "sns.heatmap(img, annot=True, fmt='.1f', square=True, cmap=\"YlGnBu\")\n",
        "plt.show()"
      ]
    },
    {
      "cell_type": "markdown",
      "metadata": {
        "execution": {
          "iopub.execute_input": "2022-03-12T08:33:29.571781Z",
          "iopub.status.busy": "2022-03-12T08:33:29.571458Z",
          "iopub.status.idle": "2022-03-12T08:33:29.576484Z",
          "shell.execute_reply": "2022-03-12T08:33:29.575467Z",
          "shell.execute_reply.started": "2022-03-12T08:33:29.571749Z"
        },
        "id": "49HZTMGC4-Hh"
      },
      "source": [
        "### Splitting the data"
      ]
    },
    {
      "cell_type": "code",
      "execution_count": null,
      "metadata": {
        "execution": {
          "iopub.execute_input": "2022-03-12T14:30:56.237277Z",
          "iopub.status.busy": "2022-03-12T14:30:56.237055Z",
          "iopub.status.idle": "2022-03-12T14:30:56.270195Z",
          "shell.execute_reply": "2022-03-12T14:30:56.269199Z",
          "shell.execute_reply.started": "2022-03-12T14:30:56.237250Z"
        },
        "id": "ZVLNCQCR4-Hd"
      },
      "outputs": [],
      "source": [
        "X_train_ds = mnist.data.iloc[:60000,:] / 255\n",
        "y_train_ds = mnist.target.iloc[:60000]\n",
        "X_test_ds = mnist.data.iloc[60000:,:] / 255\n",
        "y_test_ds = mnist.target.iloc[60000:]"
      ]
    },
    {
      "cell_type": "markdown",
      "metadata": {
        "id": "FtF3AXsG4-Hm"
      },
      "source": [
        "### Exploring the labels"
      ]
    },
    {
      "cell_type": "code",
      "execution_count": null,
      "metadata": {
        "execution": {
          "iopub.execute_input": "2022-03-12T14:30:57.745466Z",
          "iopub.status.busy": "2022-03-12T14:30:57.745037Z",
          "iopub.status.idle": "2022-03-12T14:30:57.760870Z",
          "shell.execute_reply": "2022-03-12T14:30:57.760235Z",
          "shell.execute_reply.started": "2022-03-12T14:30:57.745433Z"
        },
        "id": "lJ-Sd7Ul4-Hn"
      },
      "outputs": [],
      "source": [
        "y_train_valuec = y_train_ds.value_counts().sort_index()\n",
        "y_train_valuec.plot(kind='bar')\n",
        "plt.xlabel(\"Label\")\n",
        "plt.ylabel(\"Count\")"
      ]
    },
    {
      "cell_type": "markdown",
      "metadata": {
        "execution": {
          "iopub.execute_input": "2022-03-12T08:46:48.792399Z",
          "iopub.status.busy": "2022-03-12T08:46:48.792043Z",
          "iopub.status.idle": "2022-03-12T08:46:48.796146Z",
          "shell.execute_reply": "2022-03-12T08:46:48.795346Z",
          "shell.execute_reply.started": "2022-03-12T08:46:48.792351Z"
        },
        "id": "Hpj_qjWu4-Hp"
      },
      "source": [
        "### Let's focus on binary classification"
      ]
    },
    {
      "cell_type": "code",
      "execution_count": null,
      "metadata": {
        "id": "lTdhdtqsicTo"
      },
      "outputs": [],
      "source": [
        "to_predict = '8'\n",
        "\n",
        "y_train_label = [1 if x == to_predict else 0 for x in y_train_ds]"
      ]
    },
    {
      "cell_type": "markdown",
      "metadata": {
        "id": "foUdOEAouH39"
      },
      "source": [
        "### Fit a logistic regression model"
      ]
    },
    {
      "cell_type": "code",
      "execution_count": null,
      "metadata": {
        "id": "G-Jrd5yBpSkJ"
      },
      "outputs": [],
      "source": [
        "from sklearn.linear_model import LogisticRegression\n",
        "\n",
        "model = LogisticRegression()\n",
        "#model = RandomForestClassifier()\n",
        "\n",
        "model.fit(X_train_ds, y_train_label)\n",
        "print(model)"
      ]
    },
    {
      "cell_type": "code",
      "execution_count": null,
      "metadata": {
        "id": "zUoFQaCjuH3_"
      },
      "outputs": [],
      "source": [
        "predictions = model.predict(X_test_ds)\n",
        "print(predictions)"
      ]
    },
    {
      "cell_type": "code",
      "execution_count": null,
      "metadata": {
        "id": "qF8n-AyDp4mr"
      },
      "outputs": [],
      "source": [
        "from sklearn.metrics import accuracy_score\n",
        "\n",
        "y_test_label = [1 if x == to_predict else 0 for x in y_test_ds]\n",
        "\n",
        "print(accuracy_score(y_test_label,predictions))"
      ]
    },
    {
      "cell_type": "markdown",
      "metadata": {
        "id": "gL-kmJ97uH4A"
      },
      "source": [
        "### How performant is an ignorant model that always predicts \"not 8\"?"
      ]
    },
    {
      "cell_type": "code",
      "execution_count": null,
      "metadata": {
        "id": "fBOsdQDFqMxA"
      },
      "outputs": [],
      "source": [
        "predictions_baseline = [0]*len(predictions)\n",
        "print(accuracy_score(y_test_label,predictions_baseline))"
      ]
    },
    {
      "cell_type": "markdown",
      "metadata": {
        "id": "9yZXEpUruH4C"
      },
      "source": [
        "### Better metrics for evaluation"
      ]
    },
    {
      "cell_type": "code",
      "execution_count": null,
      "metadata": {
        "id": "dLaecIJkfxNg"
      },
      "outputs": [],
      "source": [
        "predictions_proba = model.predict_proba(X_test_ds)\n",
        "print(predictions_proba)"
      ]
    },
    {
      "cell_type": "code",
      "execution_count": null,
      "metadata": {
        "id": "PigewRdItCL2"
      },
      "outputs": [],
      "source": [
        "from sklearn.metrics import roc_curve\n",
        "from sklearn.metrics import precision_recall_curve\n",
        "from sklearn.metrics import RocCurveDisplay\n",
        "from sklearn.metrics import PrecisionRecallDisplay\n",
        "\n",
        "y_score = predictions_proba[:,1]\n",
        "\n",
        "fpr, tpr, _ = roc_curve(y_test_label, y_score, pos_label=model.classes_[1])\n",
        "roc_display = RocCurveDisplay(fpr=fpr, tpr=tpr)\n",
        "\n",
        "prec, recall, _ = precision_recall_curve(y_test_label, y_score, pos_label=model.classes_[1])\n",
        "pr_display = PrecisionRecallDisplay(precision=prec, recall=recall)\n",
        "\n",
        "fig, (ax1, ax2) = plt.subplots(1, 2, figsize=(12, 8))\n",
        "\n",
        "roc_display.plot(ax=ax1)\n",
        "pr_display.plot(ax=ax2)\n",
        "plt.show()"
      ]
    },
    {
      "cell_type": "code",
      "execution_count": null,
      "metadata": {
        "id": "c39MbwIuwjp-"
      },
      "outputs": [],
      "source": [
        "import sklearn.metrics as metrics\n",
        "\n",
        "print(metrics.recall_score(y_test_label, predictions))\n",
        "print(metrics.precision_score(y_test_label, predictions))\n",
        "print()\n",
        "print(metrics.f1_score(y_test_label, predictions))"
      ]
    },
    {
      "cell_type": "markdown",
      "metadata": {
        "id": "zeO3qTthjB_Z"
      },
      "source": [
        "### The modelparameter values"
      ]
    },
    {
      "cell_type": "code",
      "execution_count": null,
      "metadata": {
        "id": "lae6O3VplVyU"
      },
      "outputs": [],
      "source": [
        "image = np.resize(model.coef_[0], (28, 28))\n",
        "plt.imshow(image, \"gray\")\n",
        "plt.show()"
      ]
    },
    {
      "cell_type": "markdown",
      "metadata": {
        "id": "Dl3Upq5NuH4F"
      },
      "source": [
        "### Prediction performance for all classes"
      ]
    },
    {
      "cell_type": "code",
      "execution_count": null,
      "metadata": {
        "id": "WSY30h3z98ZW"
      },
      "outputs": [],
      "source": [
        "for label in range(10):\n",
        "  y_train_label = [1 if x == str(label) else 0 for x in y_train_ds]\n",
        "  y_test_label  = [1 if x == str(label) else 0 for x in y_test_ds]\n",
        "  model.fit(X_train_ds, y_train_label)\n",
        "  predictions = model.predict(X_test_ds)\n",
        "  print(\"%i %f\"%(label,metrics.f1_score(y_test_label, predictions)))"
      ]
    },
    {
      "cell_type": "markdown",
      "metadata": {
        "id": "NHosDiBnjICb"
      },
      "source": [
        "### Multi-class classification"
      ]
    },
    {
      "cell_type": "code",
      "execution_count": null,
      "metadata": {
        "id": "jkLCb-io0ndn"
      },
      "outputs": [],
      "source": [
        "model.fit(X_train_ds, y_train_ds)\n",
        "predictions = model.predict(X_test_ds)\n",
        "print(predictions)"
      ]
    },
    {
      "cell_type": "code",
      "source": [
        "from sklearn.metrics import confusion_matrix\n",
        "\n",
        "def plot_confusion_matrix(y_true, y_pred):\n",
        "    mtx = confusion_matrix(y_true, y_pred)\n",
        "    fig, ax = plt.subplots(figsize=(8,8))\n",
        "    sns.heatmap(mtx, annot=True, fmt='d', linewidths=.5,  cbar=False, ax=ax)\n",
        "    #  square=True,\n",
        "    plt.ylabel('true label')\n",
        "    plt.xlabel('predicted label')\n",
        "\n",
        "plot_confusion_matrix(y_test_ds, predictions)"
      ],
      "metadata": {
        "id": "7LcY-Z3OwBZv"
      },
      "execution_count": null,
      "outputs": []
    },
    {
      "cell_type": "code",
      "source": [
        "from sklearn.metrics import classification_report\n",
        "\n",
        "print(classification_report(y_test_ds, predictions))"
      ],
      "metadata": {
        "id": "t3XWEhG3yDdh"
      },
      "execution_count": null,
      "outputs": []
    },
    {
      "cell_type": "markdown",
      "metadata": {
        "id": "J9-JfPNIjOJs"
      },
      "source": [
        "### Example predictions"
      ]
    },
    {
      "cell_type": "code",
      "execution_count": null,
      "metadata": {
        "id": "YHJNVKN_0-u_"
      },
      "outputs": [],
      "source": [
        "from random import randint\n",
        "\n",
        "predictions_proba = model.predict_proba(X_test_ds)\n",
        "\n",
        "idx = randint(0,len(X_test_ds)-1)\n",
        "\n",
        "pd.DataFrame(predictions_proba[idx]).plot.bar()\n",
        "plt.show()\n",
        "image = np.resize(X_test_ds.iloc[idx,:], (28, 28))\n",
        "plt.imshow(image, \"gray\")\n",
        "plt.show()"
      ]
    }
  ],
  "metadata": {
    "colab": {
      "name": "random-forest-based-digit-classifier.ipynb",
      "provenance": [],
      "include_colab_link": true
    },
    "kernelspec": {
      "display_name": "Python 3",
      "language": "python",
      "name": "python3"
    },
    "language_info": {
      "codemirror_mode": {
        "name": "ipython",
        "version": 3
      },
      "file_extension": ".py",
      "mimetype": "text/x-python",
      "name": "python",
      "nbconvert_exporter": "python",
      "pygments_lexer": "ipython3",
      "version": "3.8.3"
    }
  },
  "nbformat": 4,
  "nbformat_minor": 0
}