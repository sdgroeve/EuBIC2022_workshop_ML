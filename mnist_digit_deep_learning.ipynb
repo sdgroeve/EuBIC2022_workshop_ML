{
  "cells": [
    {
      "cell_type": "markdown",
      "metadata": {
        "id": "view-in-github",
        "colab_type": "text"
      },
      "source": [
        "<a href=\"https://colab.research.google.com/github/sdgroeve/EuBIC2022_workshop_ML/blob/main/mnist_digit_deep_learning.ipynb\" target=\"_parent\"><img src=\"https://colab.research.google.com/assets/colab-badge.svg\" alt=\"Open In Colab\"/></a>"
      ]
    },
    {
      "cell_type": "code",
      "execution_count": 8,
      "metadata": {
        "id": "h2f0b5OT0T5l"
      },
      "outputs": [],
      "source": [
        "from tensorflow import keras\n",
        "from tensorflow.keras import layers\n",
        "import matplotlib.pyplot as plt\n",
        "import seaborn as sns\n",
        "import numpy as np"
      ]
    },
    {
      "cell_type": "markdown",
      "metadata": {
        "id": "uv2TzrSM0T5o"
      },
      "source": [
        "### Loading data with Tensorflow Keras"
      ]
    },
    {
      "cell_type": "code",
      "execution_count": 2,
      "metadata": {
        "id": "_ACIAypp0T5q",
        "outputId": "be963040-4ec9-4276-fa7c-c28e9e4882f2",
        "colab": {
          "base_uri": "https://localhost:8080/"
        }
      },
      "outputs": [
        {
          "output_type": "stream",
          "name": "stdout",
          "text": [
            "Downloading data from https://storage.googleapis.com/tensorflow/tf-keras-datasets/mnist.npz\n",
            "11493376/11490434 [==============================] - 0s 0us/step\n",
            "11501568/11490434 [==============================] - 0s 0us/step\n",
            "x_train shape: (60000, 28, 28, 1)\n",
            "60000 train samples\n",
            "10000 test samples\n"
          ]
        }
      ],
      "source": [
        "num_classes = 10\n",
        "input_shape = (28, 28, 1)\n",
        "\n",
        "# the data, split between train and test sets\n",
        "(x_train, y_train), (x_test, y_test) = keras.datasets.mnist.load_data()\n",
        "\n",
        "# Scale images to the [0, 1] range\n",
        "x_train = x_train.astype(\"float32\") / 255\n",
        "x_test = x_test.astype(\"float32\") / 255\n",
        "# Make sure images have shape (28, 28, 1)\n",
        "x_train = np.expand_dims(x_train, -1)\n",
        "x_test = np.expand_dims(x_test, -1)\n",
        "print(\"x_train shape:\", x_train.shape)\n",
        "print(x_train.shape[0], \"train samples\")\n",
        "print(x_test.shape[0], \"test samples\")\n",
        "\n",
        "\n",
        "# convert class vectors to binary class matrices\n",
        "y_train = keras.utils.to_categorical(y_train, num_classes)\n",
        "y_test = keras.utils.to_categorical(y_test, num_classes)"
      ]
    },
    {
      "cell_type": "markdown",
      "metadata": {
        "id": "fVM9SQnr0T5s"
      },
      "source": [
        "### Defining the model"
      ]
    },
    {
      "cell_type": "code",
      "execution_count": 3,
      "metadata": {
        "id": "8P78-OmD0T5t",
        "outputId": "7604fda5-8112-4d31-af87-0625c07e776b",
        "colab": {
          "base_uri": "https://localhost:8080/"
        }
      },
      "outputs": [
        {
          "output_type": "stream",
          "name": "stdout",
          "text": [
            "Model: \"sequential\"\n",
            "_________________________________________________________________\n",
            " Layer (type)                Output Shape              Param #   \n",
            "=================================================================\n",
            " conv2d (Conv2D)             (None, 26, 26, 32)        320       \n",
            "                                                                 \n",
            " max_pooling2d (MaxPooling2D  (None, 13, 13, 32)       0         \n",
            " )                                                               \n",
            "                                                                 \n",
            " conv2d_1 (Conv2D)           (None, 11, 11, 64)        18496     \n",
            "                                                                 \n",
            " max_pooling2d_1 (MaxPooling  (None, 5, 5, 64)         0         \n",
            " 2D)                                                             \n",
            "                                                                 \n",
            " flatten (Flatten)           (None, 1600)              0         \n",
            "                                                                 \n",
            " dropout (Dropout)           (None, 1600)              0         \n",
            "                                                                 \n",
            " dense (Dense)               (None, 10)                16010     \n",
            "                                                                 \n",
            "=================================================================\n",
            "Total params: 34,826\n",
            "Trainable params: 34,826\n",
            "Non-trainable params: 0\n",
            "_________________________________________________________________\n",
            "None\n"
          ]
        }
      ],
      "source": [
        "model = keras.Sequential(\n",
        "    [\n",
        "        keras.Input(shape=input_shape),\n",
        "        layers.Conv2D(32, kernel_size=(3, 3), activation=\"relu\"),\n",
        "        layers.MaxPooling2D(pool_size=(2, 2)),\n",
        "        layers.Conv2D(64, kernel_size=(3, 3), activation=\"relu\"),\n",
        "        layers.MaxPooling2D(pool_size=(2, 2)),\n",
        "        layers.Flatten(),\n",
        "        layers.Dropout(0.5),\n",
        "        layers.Dense(num_classes, activation=\"softmax\"),\n",
        "    ]\n",
        ")\n",
        "\n",
        "print(model.summary())\n",
        "\n",
        "batch_size = 128\n",
        "epochs = 15\n",
        "\n",
        "model.compile(loss=\"categorical_crossentropy\", optimizer=\"adam\", metrics=[\"accuracy\"])"
      ]
    },
    {
      "cell_type": "markdown",
      "metadata": {
        "id": "WDbjdGwf0T5u"
      },
      "source": [
        "### Fitting the data"
      ]
    },
    {
      "cell_type": "code",
      "execution_count": 4,
      "metadata": {
        "id": "mqrZ_1ik0T5v",
        "outputId": "0e3b6215-c1ee-41cc-b0d1-edbc59b0257c",
        "colab": {
          "base_uri": "https://localhost:8080/"
        }
      },
      "outputs": [
        {
          "output_type": "stream",
          "name": "stdout",
          "text": [
            "Epoch 1/15\n",
            "422/422 [==============================] - 14s 11ms/step - loss: 0.3698 - accuracy: 0.8888 - val_loss: 0.0857 - val_accuracy: 0.9780\n",
            "Epoch 2/15\n",
            "422/422 [==============================] - 4s 10ms/step - loss: 0.1146 - accuracy: 0.9667 - val_loss: 0.0621 - val_accuracy: 0.9830\n",
            "Epoch 3/15\n",
            "422/422 [==============================] - 4s 10ms/step - loss: 0.0863 - accuracy: 0.9729 - val_loss: 0.0509 - val_accuracy: 0.9868\n",
            "Epoch 4/15\n",
            "422/422 [==============================] - 4s 10ms/step - loss: 0.0716 - accuracy: 0.9771 - val_loss: 0.0455 - val_accuracy: 0.9878\n",
            "Epoch 5/15\n",
            "422/422 [==============================] - 4s 10ms/step - loss: 0.0638 - accuracy: 0.9799 - val_loss: 0.0399 - val_accuracy: 0.9890\n",
            "Epoch 6/15\n",
            "422/422 [==============================] - 4s 10ms/step - loss: 0.0561 - accuracy: 0.9827 - val_loss: 0.0407 - val_accuracy: 0.9885\n",
            "Epoch 7/15\n",
            "422/422 [==============================] - 4s 10ms/step - loss: 0.0529 - accuracy: 0.9835 - val_loss: 0.0347 - val_accuracy: 0.9902\n",
            "Epoch 8/15\n",
            "422/422 [==============================] - 4s 10ms/step - loss: 0.0481 - accuracy: 0.9848 - val_loss: 0.0336 - val_accuracy: 0.9903\n",
            "Epoch 9/15\n",
            "422/422 [==============================] - 4s 10ms/step - loss: 0.0468 - accuracy: 0.9849 - val_loss: 0.0336 - val_accuracy: 0.9910\n",
            "Epoch 10/15\n",
            "422/422 [==============================] - 4s 10ms/step - loss: 0.0420 - accuracy: 0.9861 - val_loss: 0.0297 - val_accuracy: 0.9920\n",
            "Epoch 11/15\n",
            "422/422 [==============================] - 4s 10ms/step - loss: 0.0411 - accuracy: 0.9871 - val_loss: 0.0311 - val_accuracy: 0.9920\n",
            "Epoch 12/15\n",
            "422/422 [==============================] - 4s 10ms/step - loss: 0.0374 - accuracy: 0.9884 - val_loss: 0.0335 - val_accuracy: 0.9915\n",
            "Epoch 13/15\n",
            "422/422 [==============================] - 4s 10ms/step - loss: 0.0364 - accuracy: 0.9880 - val_loss: 0.0314 - val_accuracy: 0.9915\n",
            "Epoch 14/15\n",
            "422/422 [==============================] - 4s 10ms/step - loss: 0.0356 - accuracy: 0.9886 - val_loss: 0.0304 - val_accuracy: 0.9920\n",
            "Epoch 15/15\n",
            "422/422 [==============================] - 4s 10ms/step - loss: 0.0332 - accuracy: 0.9889 - val_loss: 0.0289 - val_accuracy: 0.9922\n",
            "Test loss: 0.02633388340473175\n",
            "Test accuracy: 0.9915000200271606\n"
          ]
        }
      ],
      "source": [
        "model.fit(x_train, y_train, batch_size=batch_size, epochs=epochs, validation_split=0.1)\n",
        "\n",
        "score = model.evaluate(x_test, y_test, verbose=0)\n",
        "print(\"Test loss:\", score[0])\n",
        "print(\"Test accuracy:\", score[1])"
      ]
    },
    {
      "cell_type": "markdown",
      "metadata": {
        "id": "knVYgBfd0T5w"
      },
      "source": [
        "### Making predictions"
      ]
    },
    {
      "cell_type": "code",
      "execution_count": 7,
      "metadata": {
        "id": "XX04qqCp0T5x",
        "outputId": "66d5c6bc-806c-4f8a-ff8e-0616cb32c00b",
        "colab": {
          "base_uri": "https://localhost:8080/"
        }
      },
      "outputs": [
        {
          "output_type": "stream",
          "name": "stdout",
          "text": [
            "[[6.03573280e-09 2.10538514e-11 2.17988163e-05 ... 9.99966621e-01\n",
            "  2.09484536e-08 1.84002170e-06]\n",
            " [2.05462243e-06 9.13335498e-07 9.99992967e-01 ... 1.77344653e-10\n",
            "  2.16116067e-08 8.35849098e-12]\n",
            " [3.78254839e-07 9.99247849e-01 1.62130436e-05 ... 1.18870084e-04\n",
            "  1.07089336e-05 6.73301315e-07]\n",
            " ...\n",
            " [2.74440106e-12 9.50463458e-11 2.41184486e-11 ... 2.24887504e-08\n",
            "  1.09112129e-07 1.10512708e-07]\n",
            " [3.75112336e-07 7.94360400e-13 1.50797397e-09 ... 3.10466965e-11\n",
            "  2.32740495e-05 1.25667754e-07]\n",
            " [1.28957322e-06 3.00935360e-10 3.45147191e-06 ... 3.89705074e-11\n",
            "  8.32955777e-07 7.45606688e-10]]\n"
          ]
        }
      ],
      "source": [
        "predictions = model.predict(x_test)"
      ]
    },
    {
      "cell_type": "code",
      "source": [
        "predicted_classes = predictions.argmax(axis=-1)\n",
        "print(predicted_classes)"
      ],
      "metadata": {
        "id": "z-ytzQSY2o2e",
        "outputId": "f7a43d4d-bc4f-4b6d-90af-d84c6d2c6cce",
        "colab": {
          "base_uri": "https://localhost:8080/"
        }
      },
      "execution_count": 14,
      "outputs": [
        {
          "output_type": "stream",
          "name": "stdout",
          "text": [
            "[7 2 1 ... 4 5 6]\n",
            "[[0. 0. 0. ... 1. 0. 0.]\n",
            " [0. 0. 1. ... 0. 0. 0.]\n",
            " [0. 1. 0. ... 0. 0. 0.]\n",
            " ...\n",
            " [0. 0. 0. ... 0. 0. 0.]\n",
            " [0. 0. 0. ... 0. 0. 0.]\n",
            " [0. 0. 0. ... 0. 0. 0.]]\n"
          ]
        }
      ]
    },
    {
      "cell_type": "code",
      "source": [
        "from sklearn.metrics import confusion_matrix\n",
        "\n",
        "def plot_confusion_matrix(y_true, y_pred):\n",
        "    mtx = confusion_matrix(y_true, y_pred)\n",
        "    fig, ax = plt.subplots(figsize=(8,8))\n",
        "    sns.heatmap(mtx, annot=True, fmt='d', linewidths=.5,  cbar=False, ax=ax)\n",
        "    plt.ylabel('true label')\n",
        "    plt.xlabel('predicted label')\n",
        "\n",
        "y_test_classes = y_test.argmax(axis=-1)\n",
        "plot_confusion_matrix(y_test_classes, predicted_classes)"
      ],
      "metadata": {
        "id": "t9atcYn11_Jp",
        "outputId": "f059a7df-4470-4f69-f018-b8b670cd695f",
        "colab": {
          "base_uri": "https://localhost:8080/",
          "height": 628
        }
      },
      "execution_count": 15,
      "outputs": [
        {
          "output_type": "stream",
          "name": "stdout",
          "text": [
            "[[0. 0. 0. ... 1. 0. 0.]\n",
            " [0. 0. 1. ... 0. 0. 0.]\n",
            " [0. 1. 0. ... 0. 0. 0.]\n",
            " ...\n",
            " [0. 0. 0. ... 0. 0. 0.]\n",
            " [0. 0. 0. ... 0. 0. 0.]\n",
            " [0. 0. 0. ... 0. 0. 0.]]\n"
          ]
        },
        {
          "output_type": "display_data",
          "data": {
            "text/plain": [
              "<Figure size 576x576 with 1 Axes>"
            ],
            "image/png": "[encoded data removed]"
          },
          "metadata": {
            "needs_background": "light"
          }
        }
      ]
    },
    {
      "cell_type": "code",
      "source": [
        "from sklearn.metrics import classification_report\n",
        "\n",
        "print(classification_report(y_test_classes, predicted_classes))"
      ],
      "metadata": {
        "id": "w__xe8vC3RW6",
        "outputId": "293d677d-d41e-4068-add2-c0674129b587",
        "colab": {
          "base_uri": "https://localhost:8080/"
        }
      },
      "execution_count": 17,
      "outputs": [
        {
          "output_type": "stream",
          "name": "stdout",
          "text": [
            "              precision    recall  f1-score   support\n",
            "\n",
            "           0       0.99      1.00      1.00       980\n",
            "           1       1.00      1.00      1.00      1135\n",
            "           2       0.98      1.00      0.99      1032\n",
            "           3       0.99      0.99      0.99      1010\n",
            "           4       0.99      0.99      0.99       982\n",
            "           5       0.99      0.99      0.99       892\n",
            "           6       0.99      0.99      0.99       958\n",
            "           7       0.99      0.99      0.99      1028\n",
            "           8       1.00      0.98      0.99       974\n",
            "           9       0.99      0.99      0.99      1009\n",
            "\n",
            "    accuracy                           0.99     10000\n",
            "   macro avg       0.99      0.99      0.99     10000\n",
            "weighted avg       0.99      0.99      0.99     10000\n",
            "\n"
          ]
        }
      ]
    },
    {
      "cell_type": "code",
      "execution_count": 20,
      "metadata": {
        "id": "P2CLfzIN0T50",
        "outputId": "70a6b786-53de-4dc2-b0a9-f81a4ed1a30d",
        "colab": {
          "base_uri": "https://localhost:8080/",
          "height": 262
        }
      },
      "outputs": [
        {
          "output_type": "display_data",
          "data": {
            "text/plain": [
              "<Figure size 432x288 with 1 Axes>"
            ],
            "image/png": "[encoded data removed]"
          },
          "metadata": {
            "needs_background": "light"
          }
        }
      ],
      "source": [
        "from keras.preprocessing import image\n",
        "import pandas as pd\n",
        "\n",
        "img = image.load_img('chicken.jpg', target_size=(28, 28), color_mode=\"grayscale\")\n",
        "x = image.img_to_array(img)\n",
        "x = np.expand_dims(x, axis=0)\n",
        "\n",
        "images = np.vstack([x])\n",
        "predictions = model.predict(images)\n",
        "\n",
        "pd.DataFrame(predictions).plot.bar()\n",
        "plt.show()"
      ]
    },
    {
      "cell_type": "code",
      "source": [
        ""
      ],
      "metadata": {
        "id": "qT6WJeBJ3z4A"
      },
      "execution_count": null,
      "outputs": []
    }
  ],
  "metadata": {
    "kernelspec": {
      "display_name": "Python 3",
      "language": "python",
      "name": "python3"
    },
    "language_info": {
      "codemirror_mode": {
        "name": "ipython",
        "version": 3
      },
      "file_extension": ".py",
      "mimetype": "text/x-python",
      "name": "python",
      "nbconvert_exporter": "python",
      "pygments_lexer": "ipython3",
      "version": "3.8.3"
    },
    "colab": {
      "name": "mnist_digit_deep_learning.ipynb",
      "provenance": [],
      "include_colab_link": true
    },
    "accelerator": "GPU"
  },
  "nbformat": 4,
  "nbformat_minor": 0
}